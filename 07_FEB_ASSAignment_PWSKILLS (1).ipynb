{
 "cells": [
  {
   "cell_type": "code",
   "execution_count": 78,
   "id": "a345cc6f",
   "metadata": {},
   "outputs": [],
   "source": [
    "# Question 1"
   ]
  },
  {
   "cell_type": "raw",
   "id": "7d7e631d",
   "metadata": {},
   "source": [
    "Python programming invented by Guido Van Rossum"
   ]
  },
  {
   "cell_type": "code",
   "execution_count": 79,
   "id": "80c65c20",
   "metadata": {},
   "outputs": [],
   "source": [
    "# Question 2 "
   ]
  },
  {
   "cell_type": "raw",
   "id": "4f058dda",
   "metadata": {},
   "source": [
    "Python is a object oriented programming language "
   ]
  },
  {
   "cell_type": "code",
   "execution_count": 80,
   "id": "2c5f2857",
   "metadata": {},
   "outputs": [],
   "source": [
    "# Question 3"
   ]
  },
  {
   "cell_type": "raw",
   "id": "debb5c83",
   "metadata": {},
   "source": [
    "Yes python is a case sensitive "
   ]
  },
  {
   "cell_type": "code",
   "execution_count": 81,
   "id": "b146b874",
   "metadata": {},
   "outputs": [],
   "source": [
    "# Question 4 "
   ]
  },
  {
   "cell_type": "raw",
   "id": "fd84dc42",
   "metadata": {},
   "source": [
    ".py is the extension of python file"
   ]
  },
  {
   "cell_type": "code",
   "execution_count": 82,
   "id": "018b4b89",
   "metadata": {},
   "outputs": [],
   "source": [
    "# Question 5"
   ]
  },
  {
   "cell_type": "raw",
   "id": "34d94776",
   "metadata": {},
   "source": [
    "python code is interpreted"
   ]
  },
  {
   "cell_type": "code",
   "execution_count": 83,
   "id": "1031fe4b",
   "metadata": {},
   "outputs": [],
   "source": [
    "#Question 6 "
   ]
  },
  {
   "cell_type": "raw",
   "id": "fd94f716",
   "metadata": {},
   "source": [
    "The following are blocks: a module, a function body, and a class definition."
   ]
  },
  {
   "cell_type": "code",
   "execution_count": 84,
   "id": "36107c51",
   "metadata": {},
   "outputs": [],
   "source": [
    "#Question 7"
   ]
  },
  {
   "cell_type": "raw",
   "id": "d78dd272",
   "metadata": {},
   "source": [
    "# is a signle line commentor"
   ]
  },
  {
   "cell_type": "code",
   "execution_count": 85,
   "id": "31d232b6",
   "metadata": {},
   "outputs": [],
   "source": [
    "#Question 8"
   ]
  },
  {
   "cell_type": "raw",
   "id": "2ea9861f",
   "metadata": {},
   "source": [
    "python.__version__    helps us to find version"
   ]
  },
  {
   "cell_type": "code",
   "execution_count": 86,
   "id": "2d34550b",
   "metadata": {},
   "outputs": [],
   "source": [
    "#Question 9"
   ]
  },
  {
   "cell_type": "raw",
   "id": "2c194516",
   "metadata": {},
   "source": [
    "lambda"
   ]
  },
  {
   "cell_type": "code",
   "execution_count": 87,
   "id": "16b19a31",
   "metadata": {},
   "outputs": [],
   "source": [
    "#Question 10"
   ]
  },
  {
   "cell_type": "raw",
   "id": "fff67df1",
   "metadata": {},
   "source": [
    "pip is used to istall packages"
   ]
  },
  {
   "cell_type": "code",
   "execution_count": 88,
   "id": "4af86e8a",
   "metadata": {},
   "outputs": [],
   "source": [
    "#Question 11"
   ]
  },
  {
   "cell_type": "raw",
   "id": "8275075e",
   "metadata": {},
   "source": [
    "pow() , exp() , sqrt() , .lower() , etc...."
   ]
  },
  {
   "cell_type": "code",
   "execution_count": 89,
   "id": "deb8b42b",
   "metadata": {},
   "outputs": [],
   "source": [
    "#Question 12"
   ]
  },
  {
   "cell_type": "raw",
   "id": "e8ab6668",
   "metadata": {},
   "source": [
    "79 Characters is the maximum possible length "
   ]
  },
  {
   "cell_type": "code",
   "execution_count": 90,
   "id": "995a44c9",
   "metadata": {},
   "outputs": [],
   "source": [
    "#Question 13"
   ]
  },
  {
   "cell_type": "raw",
   "id": "543071ef",
   "metadata": {},
   "source": [
    "Python is a simple programming language \n",
    "it has a wide variety of applications involving Data Science , AI , ML , Web Development , etc .."
   ]
  },
  {
   "cell_type": "code",
   "execution_count": 91,
   "id": "de01a4eb",
   "metadata": {},
   "outputs": [],
   "source": [
    "#Question 14"
   ]
  },
  {
   "cell_type": "raw",
   "id": "f2adec70",
   "metadata": {},
   "source": [
    "Using Cocept of Threading and Memory Management"
   ]
  },
  {
   "cell_type": "code",
   "execution_count": 93,
   "id": "91058ad9",
   "metadata": {},
   "outputs": [],
   "source": [
    "#Question 16"
   ]
  },
  {
   "cell_type": "raw",
   "id": "6bde531d",
   "metadata": {},
   "source": [
    "Yes Indentation required in python"
   ]
  }
 ],
 "metadata": {
  "kernelspec": {
   "display_name": "Python 3 (ipykernel)",
   "language": "python",
   "name": "python3"
  },
  "language_info": {
   "codemirror_mode": {
    "name": "ipython",
    "version": 3
   },
   "file_extension": ".py",
   "mimetype": "text/x-python",
   "name": "python",
   "nbconvert_exporter": "python",
   "pygments_lexer": "ipython3",
   "version": "3.11.5"
  }
 },
 "nbformat": 4,
 "nbformat_minor": 5
}
